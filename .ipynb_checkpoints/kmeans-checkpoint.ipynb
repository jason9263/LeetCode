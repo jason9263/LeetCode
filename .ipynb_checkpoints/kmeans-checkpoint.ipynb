{
 "cells": [
  {
   "cell_type": "code",
   "execution_count": 2,
   "metadata": {},
   "outputs": [],
   "source": [
    "# -*- coding: utf-8 -*-\n",
    "import numpy as np\n",
    "\n",
    "#计算距离函数\n",
    "def euclidean_distance(x1,x2):\n",
    "    distance=0\n",
    "    for i in range(len(x1)):\n",
    "        distance+=pow((x1[i]-x2[i]),2)\n",
    "    return np.sqrt(distance)"
   ]
  },
  {
   "cell_type": "code",
   "execution_count": 3,
   "metadata": {},
   "outputs": [],
   "source": [
    "#定义初始化函数\n",
    "def centroids_init(k,X):\n",
    "    n_samples,n_features=X.shape\n",
    "\n",
    "    centroids=np.zeros((k,n_features))\n",
    "    #centroids用于储存每个聚类中心\n",
    "    for i in range(k):\n",
    "        #每一次循环随机选择一个类别中心\n",
    "        centroid=X[np.random.choice(range(n_samples))] # 从 n_samples里面随机选一个作为聚类中心\n",
    "        \n",
    "        centroids[i]=centroid\n",
    "        \n",
    "    return centroids"
   ]
  },
  {
   "cell_type": "code",
   "execution_count": 4,
   "metadata": {},
   "outputs": [],
   "source": [
    "#定义样本的最近质心点所属的类别索引\n",
    "def closest_centroid(sample,centroids):\n",
    "    closest_i=0\n",
    "    #先把距离设为无穷大\n",
    "    closest_dist=float('inf')\n",
    "    for i,centroid in enumerate(centroids):\n",
    "        distance=euclidean_distance(sample,centroid)\n",
    "        if distance < closest_dist:\n",
    "            closest_i=i\n",
    "            closest_dist=distance\n",
    "            \n",
    "    return closest_i\n"
   ]
  },
  {
   "cell_type": "code",
   "execution_count": null,
   "metadata": {},
   "outputs": [],
   "source": [
    "#定义构建类别过程\n",
    "def create_clusters(centroids,k,X):\n",
    "    \n",
    "    clusters=[[] for i in range(k)]\n",
    "    #假如 K 为3，那么上面语句执行后，clusters为 [[],[],[]]\n",
    "    for sample_i , sample in enumerate(X):\n",
    "        #得到sample所属的聚类中心的标签\n",
    "        centroid_i=closest_centroid(sample,centroids)\n",
    "        clusters[centroid_i].append(sample_i)\n",
    "        \n",
    "    return clusters\n",
    "\n"
   ]
  },
  {
   "cell_type": "code",
   "execution_count": null,
   "metadata": {},
   "outputs": [],
   "source": [
    "#根据上一步的计算结果计算新的中心点\n",
    "def calculate_centroids(clusters,k,X):\n",
    "    n_features=np.shape(X)[1]\n",
    "    centroids=np.zeros((k,n_features))\n",
    "    for i,cluster in enumerate(clusters):\n",
    "        #求平均值，这就是KMeans更新聚类中心的方法\n",
    "        centroid=np.mean(X[cluster],axis=0)\n",
    "        #更新聚类中心\n",
    "        centroids[i]=centroid\n",
    "        \n",
    "    return centroids\n"
   ]
  },
  {
   "cell_type": "code",
   "execution_count": null,
   "metadata": {},
   "outputs": [],
   "source": [
    "#获取每个样本所属的聚类类别\n",
    "def get_cluster_labels(clusters,X):\n",
    "    y_pred=np.zeros(np.shape(X)[0])\n",
    "    for cluster_i,cluster in enumerate(clusters):\n",
    "        for sample_i in cluster:\n",
    "            y_pred[sample_i]=cluster_i\n",
    "            \n",
    "    return y_pred"
   ]
  },
  {
   "cell_type": "code",
   "execution_count": null,
   "metadata": {},
   "outputs": [],
   "source": [
    "#封装整合 \n",
    "def kmeans(X,k,max_iter):\n",
    "    centroids=centroids_init(k,X)\n",
    "    for i in range(max_iter):\n",
    "        clusters=create_clusters(centroids,k,X)\n",
    "        prev_centroids=centroids\n",
    "        centroids=calculate_centroids(clusters,k,X)\n",
    "        diff=centroids-prev_centroids\n",
    "        #当聚类中心不再变化时，停止迭代\n",
    "        if not diff.any():\n",
    "            break\n",
    "        \n",
    "    return get_cluster_labels(clusters,X),centroids\n"
   ]
  },
  {
   "cell_type": "code",
   "execution_count": null,
   "metadata": {},
   "outputs": [],
   "source": [
    "\n",
    "X=np.array([[0,2],[0,0],[5,0],[4,5],[1,1]])\n",
    "labels,centers=kmeans(X,2,10)\n",
    "print(labels)\n",
    "print(centers)"
   ]
  }
 ],
 "metadata": {
  "kernelspec": {
   "display_name": "Python 3",
   "language": "python",
   "name": "python3"
  },
  "language_info": {
   "codemirror_mode": {
    "name": "ipython",
    "version": 3
   },
   "file_extension": ".py",
   "mimetype": "text/x-python",
   "name": "python",
   "nbconvert_exporter": "python",
   "pygments_lexer": "ipython3",
   "version": "3.7.7"
  }
 },
 "nbformat": 4,
 "nbformat_minor": 4
}

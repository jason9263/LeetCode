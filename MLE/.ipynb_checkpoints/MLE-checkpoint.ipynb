{
 "cells": [
  {
   "cell_type": "code",
   "execution_count": 1,
   "metadata": {},
   "outputs": [],
   "source": [
    "import numpy as np\n",
    "import tensorflow as tf\n",
    "from matplotlib import pyplot as plt"
   ]
  },
  {
   "cell_type": "code",
   "execution_count": 26,
   "metadata": {},
   "outputs": [
    {
     "name": "stdout",
     "output_type": "stream",
     "text": [
      "2.0.0\n",
      "tf.Tensor([[1. 2. 3. 4. 5.]], shape=(1, 5), dtype=float32)\n",
      "tf.Tensor(\n",
      "[[ 0.54604006 -1.4532446   1.9829233 ]\n",
      " [ 0.9275104  -1.0161777   0.28959832]], shape=(2, 3), dtype=float32)\n",
      "[[0.29050052 0.72583044 0.6373347 ]\n",
      " [0.24527228 0.29085028 0.00816596]]\n"
     ]
    }
   ],
   "source": [
    "t0 = tf.constant([[1,2,3, 4, 5]], dtype = tf.float32)\n",
    "t0_2 = tf.constant([[5,4,3,2,1]], dtype = tf.float32)\n",
    "\n",
    "t1 = tf.random.normal((2, 3), mean = 0.0, stddev = 1.0, dtype = tf.float32)\n",
    "\n",
    "t2 = tf.random.uniform((2, 3), minval = 0.0, maxval = 1.0, dtype = tf.float32)\n",
    "\n",
    "print(tf.__version__)\n",
    "print(t0)\n",
    "print(t1)\n",
    "\n",
    "print(t2.numpy())"
   ]
  },
  {
   "cell_type": "code",
   "execution_count": 27,
   "metadata": {},
   "outputs": [
    {
     "data": {
      "text/plain": [
       "array([[6., 6., 6., 6., 6.]], dtype=float32)"
      ]
     },
     "execution_count": 27,
     "metadata": {},
     "output_type": "execute_result"
    }
   ],
   "source": [
    "t0.shape\n",
    "tf.add(t0, t0_2).numpy()"
   ]
  },
  {
   "cell_type": "code",
   "execution_count": 24,
   "metadata": {},
   "outputs": [
    {
     "ename": "InvalidArgumentError",
     "evalue": "Incompatible shapes: [1,5] vs. [2,3] [Op:Add]",
     "output_type": "error",
     "traceback": [
      "\u001b[0;31m---------------------------------------------------------------------------\u001b[0m",
      "\u001b[0;31mInvalidArgumentError\u001b[0m                      Traceback (most recent call last)",
      "\u001b[0;32m<ipython-input-24-c296bd8ecf58>\u001b[0m in \u001b[0;36m<module>\u001b[0;34m\u001b[0m\n\u001b[1;32m      1\u001b[0m \u001b[0mtf\u001b[0m\u001b[0;34m.\u001b[0m\u001b[0mslice\u001b[0m\u001b[0;34m(\u001b[0m\u001b[0mt0\u001b[0m\u001b[0;34m,\u001b[0m \u001b[0;34m[\u001b[0m\u001b[0;36m0\u001b[0m\u001b[0;34m,\u001b[0m\u001b[0;36m1\u001b[0m\u001b[0;34m]\u001b[0m\u001b[0;34m,\u001b[0m \u001b[0;34m[\u001b[0m\u001b[0;36m1\u001b[0m\u001b[0;34m,\u001b[0m \u001b[0;36m1\u001b[0m\u001b[0;34m]\u001b[0m\u001b[0;34m)\u001b[0m\u001b[0;34m\u001b[0m\u001b[0;34m\u001b[0m\u001b[0m\n\u001b[0;32m----> 2\u001b[0;31m \u001b[0mtf\u001b[0m\u001b[0;34m.\u001b[0m\u001b[0madd\u001b[0m\u001b[0;34m(\u001b[0m\u001b[0mt0\u001b[0m\u001b[0;34m,\u001b[0m \u001b[0mt1\u001b[0m\u001b[0;34m)\u001b[0m\u001b[0;34m.\u001b[0m\u001b[0mnumpy\u001b[0m\u001b[0;34m(\u001b[0m\u001b[0;34m)\u001b[0m\u001b[0;34m\u001b[0m\u001b[0;34m\u001b[0m\u001b[0m\n\u001b[0m",
      "\u001b[0;32m/opt/anaconda3/envs/MLE/lib/python3.7/site-packages/tensorflow_core/python/ops/gen_math_ops.py\u001b[0m in \u001b[0;36madd\u001b[0;34m(x, y, name)\u001b[0m\n\u001b[1;32m    389\u001b[0m       \u001b[0;32melse\u001b[0m\u001b[0;34m:\u001b[0m\u001b[0;34m\u001b[0m\u001b[0;34m\u001b[0m\u001b[0m\n\u001b[1;32m    390\u001b[0m         \u001b[0mmessage\u001b[0m \u001b[0;34m=\u001b[0m \u001b[0me\u001b[0m\u001b[0;34m.\u001b[0m\u001b[0mmessage\u001b[0m\u001b[0;34m\u001b[0m\u001b[0;34m\u001b[0m\u001b[0m\n\u001b[0;32m--> 391\u001b[0;31m       \u001b[0m_six\u001b[0m\u001b[0;34m.\u001b[0m\u001b[0mraise_from\u001b[0m\u001b[0;34m(\u001b[0m\u001b[0m_core\u001b[0m\u001b[0;34m.\u001b[0m\u001b[0m_status_to_exception\u001b[0m\u001b[0;34m(\u001b[0m\u001b[0me\u001b[0m\u001b[0;34m.\u001b[0m\u001b[0mcode\u001b[0m\u001b[0;34m,\u001b[0m \u001b[0mmessage\u001b[0m\u001b[0;34m)\u001b[0m\u001b[0;34m,\u001b[0m \u001b[0;32mNone\u001b[0m\u001b[0;34m)\u001b[0m\u001b[0;34m\u001b[0m\u001b[0;34m\u001b[0m\u001b[0m\n\u001b[0m\u001b[1;32m    392\u001b[0m   \u001b[0;31m# Add nodes to the TensorFlow graph.\u001b[0m\u001b[0;34m\u001b[0m\u001b[0;34m\u001b[0m\u001b[0;34m\u001b[0m\u001b[0m\n\u001b[1;32m    393\u001b[0m   \u001b[0;32mtry\u001b[0m\u001b[0;34m:\u001b[0m\u001b[0;34m\u001b[0m\u001b[0;34m\u001b[0m\u001b[0m\n",
      "\u001b[0;32m/opt/anaconda3/envs/MLE/lib/python3.7/site-packages/six.py\u001b[0m in \u001b[0;36mraise_from\u001b[0;34m(value, from_value)\u001b[0m\n",
      "\u001b[0;31mInvalidArgumentError\u001b[0m: Incompatible shapes: [1,5] vs. [2,3] [Op:Add]"
     ]
    }
   ],
   "source": [
    "tf.slice(t0, [0,1], [1, 1])"
   ]
  },
  {
   "cell_type": "code",
   "execution_count": null,
   "metadata": {},
   "outputs": [],
   "source": []
  },
  {
   "cell_type": "code",
   "execution_count": 110,
   "metadata": {},
   "outputs": [],
   "source": [
    "x = np.random.randn(1000)\n",
    "y = np.random.randn(1000)\n",
    "\n",
    "\n",
    "arr = np.array([[1,2,3],[2,3,4]], dtype = np.float)\n",
    "arr_2 = np.zeros((3,4))\n",
    "arr_3 = np.ones((3,4), dtype = np.float32)\n",
    "arr_4 = np.empty((3,4))\n",
    "arr_5 = np.arange(10, 22, 2).reshape((2,3))\n",
    "arr_6 = np.linspace(1, 10, 20).reshape((2, 10))\n",
    "a_ = np.array([[1, 2], [1, 2]])\n",
    "b_ = np.array([[3, 4], [1, 2]])\n",
    "\n",
    "\n",
    "\n",
    "c_ = np.random.random((3, 4))\n",
    "\n",
    "d_ = np.arange(2, 14).reshape((3,4))\n",
    "\n",
    "e_ = np.vstack((c_, d_))\n",
    "\n",
    "\n",
    "\n",
    "f_ = np.arange(12).reshape((3, 4))\n"
   ]
  },
  {
   "cell_type": "code",
   "execution_count": 111,
   "metadata": {},
   "outputs": [
    {
     "name": "stdout",
     "output_type": "stream",
     "text": [
      "(6, 4)\n",
      "(3, 8)\n",
      "(3,)\n",
      "(3,)\n",
      "[array([[0, 1],\n",
      "       [4, 5],\n",
      "       [8, 9]]), array([[ 2,  3],\n",
      "       [ 6,  7],\n",
      "       [10, 11]])]\n"
     ]
    }
   ],
   "source": [
    "# print(arr)\n",
    "# print(arr_2)\n",
    "# print(arr_3)\n",
    "# print(arr_4)\n",
    "# print(arr_5)\n",
    "# print(arr_6)\n",
    "# print(arr_2 + arr_3)\n",
    "# print(arr_2 - arr_3)\n",
    "# print(arr_6 ** 2)\n",
    "# print( 10 * np.sin(arr_6**2))\n",
    "# print( 10 * np.sin(arr_6**2) == 3)\n",
    "# print(a_, b_)\n",
    "# print(a_*b_)\n",
    "# print(np.dot(a_,b_))\n",
    "# print(a_.dot(b_))\n",
    "# print(c_)\n",
    "# print(np.sum(c_))\n",
    "# print(np.max(c_, axis = 1))\n",
    "# print(np.min(c_))\n",
    "\n",
    "# print(d_)\n",
    "# print(d_.T)\n",
    "# print('-------->.  ',d_[1])\n",
    "# print(d_.flatten())\n",
    "\n",
    "\n",
    "print(np.vstack((c_, d_)).shape)\n",
    "print(np.hstack((c_, d_)).shape)\n",
    "\n",
    "c_ = np.array([1, 1, 1])\n",
    "d_ = np.array([2, 2, 2])\n",
    "\n",
    "print(c_.shape)\n",
    "print(d_.shape)\n",
    "\n",
    "\n",
    "print(np.split(f_, 2, axis = 1))\n",
    "\n",
    "\n",
    "# print(np.concatenate((d_, c_)))\n",
    "\n",
    "\n",
    "# for row in d_:\n",
    "#     print(row)\n",
    "# print(np.argmin(d_))\n",
    "# print(np.argmax(d_))\n",
    "# print(np.mean(d_))\n",
    "# print(d_.mean())\n",
    "# print(np.average(d_))\n",
    "# print(np.median(d_))\n",
    "# print(np.cumsum(d_))\n",
    "# print(np.diff(d_))\n",
    "# print(np.nonzero(d_))\n",
    "# print(np.transpose(d_))\n",
    "\n",
    "# print(np.clip(d_, 5, 9))\n",
    "\n",
    "# print(np.mean(d_, axis = 1))\n",
    "\n",
    "\n",
    "# print(arr.ndim)\n",
    "# print(arr.shape)\n",
    "# print(arr.size)\n",
    "# print(arr.dtype)"
   ]
  },
  {
   "cell_type": "code",
   "execution_count": null,
   "metadata": {},
   "outputs": [],
   "source": []
  }
 ],
 "metadata": {
  "kernelspec": {
   "display_name": "Python 3",
   "language": "python",
   "name": "python3"
  },
  "language_info": {
   "codemirror_mode": {
    "name": "ipython",
    "version": 3
   },
   "file_extension": ".py",
   "mimetype": "text/x-python",
   "name": "python",
   "nbconvert_exporter": "python",
   "pygments_lexer": "ipython3",
   "version": "3.7.7"
  }
 },
 "nbformat": 4,
 "nbformat_minor": 4
}
